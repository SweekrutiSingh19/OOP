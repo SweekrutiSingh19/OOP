{
  "nbformat": 4,
  "nbformat_minor": 0,
  "metadata": {
    "colab": {
      "name": "Assignment 2.ipynb",
      "provenance": [],
      "collapsed_sections": [],
      "authorship_tag": "ABX9TyNPV7cwRjG1gIcuEUbBsiXR",
      "include_colab_link": true
    },
    "kernelspec": {
      "name": "python3",
      "display_name": "Python 3"
    },
    "language_info": {
      "name": "python"
    }
  },
  "cells": [
    {
      "cell_type": "markdown",
      "metadata": {
        "id": "view-in-github",
        "colab_type": "text"
      },
      "source": [
        "<a href=\"https://colab.research.google.com/github/SweekrutiSingh19/OOP/blob/main/Python_Basics_Practice.ipynb\" target=\"_parent\"><img src=\"https://colab.research.google.com/assets/colab-badge.svg\" alt=\"Open In Colab\"/></a>"
      ]
    },
    {
      "cell_type": "code",
      "metadata": {
        "id": "nsv9xIazcuHT"
      },
      "source": [
        "# Python Keywords and Identifiers"
      ],
      "execution_count": null,
      "outputs": []
    },
    {
      "cell_type": "code",
      "metadata": {
        "id": "fTef2tWCdjx7"
      },
      "source": [
        "x = 5     # this is an assignment statement\n",
        "X = 20     # this is also an assignment statement\n",
        "print(x, ' and ' ,X)     # case-sensitive variables\n",
        "sum = (x + X\n",
        "       + 10)     # multiline statement\n",
        "print('The sum is', sum)"
      ],
      "execution_count": null,
      "outputs": []
    },
    {
      "cell_type": "code",
      "metadata": {
        "id": "5Mc2dgFLjJ8E"
      },
      "source": [
        "# Python Indentation\n",
        "for x in range(1,10) :\n",
        "    print(x)\n",
        "    if x == 5 + 20:\n",
        "        break\n",
        "\n",
        "if True: print('Hi'); x = 5\n",
        "\n",
        "if False: print('Hey'); x = 20"
      ],
      "execution_count": null,
      "outputs": []
    },
    {
      "cell_type": "code",
      "metadata": {
        "id": "HbVMc3e1llZq"
      },
      "source": [
        "print('''Welcome to OOP Course\n",
        "My name is Sweekruti Narendra Singh and I study in IIIT Dharwad''')     # this is an example of multi-line comments"
      ],
      "execution_count": null,
      "outputs": []
    },
    {
      "cell_type": "code",
      "metadata": {
        "id": "PBJTwyJcozjT"
      },
      "source": [
        "# doc string comments\n",
        "def sum(x):\n",
        "    '''Function to add two or more numbers'''\n",
        "    return x\n",
        "\n",
        "print(sum.__doc__)"
      ],
      "execution_count": null,
      "outputs": []
    },
    {
      "cell_type": "code",
      "metadata": {
        "id": "GgfhwM7fqeIg"
      },
      "source": [
        "# Python Variables"
      ],
      "execution_count": null,
      "outputs": []
    },
    {
      "cell_type": "code",
      "metadata": {
        "id": "ilIX70Buql-R"
      },
      "source": [
        "x = 5\n",
        "y = 20\n",
        "z = x+y"
      ],
      "execution_count": 29,
      "outputs": []
    },
    {
      "cell_type": "code",
      "metadata": {
        "id": "6-qTn-P8syKo"
      },
      "source": [
        "# Object Identity\n",
        "x = 5  \n",
        "y = x  \n",
        "print(id(x))\n",
        "print(id(y))\n",
        "print(x)\n",
        "print(y)  \n",
        "x = 20     # Reassigned variable a\n",
        "print(id(x))\n",
        "print(x)"
      ],
      "execution_count": null,
      "outputs": []
    },
    {
      "cell_type": "code",
      "metadata": {
        "id": "EE68C6vYuWUK"
      },
      "source": [
        "name = 'Multi assign'\n",
        "a=b=100     # Assigning single value to multiple variables\n",
        "x,y=5,20     # Assigning multiple values to multiple variables\n",
        "\n",
        "print(name)\n",
        "print(a,b)\n",
        "print(x,y)\n",
        "\n",
        "name = 'Sweekruti'\n",
        "Name = 'Narendra'\n",
        "NAME = 'Singh'\n",
        "print(name, Name, NAME)     # Printing multiple values"
      ],
      "execution_count": null,
      "outputs": []
    },
    {
      "cell_type": "code",
      "metadata": {
        "id": "fAfiMvzOyXvg"
      },
      "source": [
        "# Python Variable Types\n",
        "def sum():\n",
        "    x = 5\n",
        "    y = 20\n",
        "    z = x+y     # Defining local variables\n",
        "    print('The sum is', z)\n",
        "\n",
        "    sum()     # Calling a function\n",
        "\n",
        "x = 5     # Reassigned variable a\n",
        "def function():\n",
        "    global x\n",
        "    print(x)     # printing a global variable\n",
        "\n",
        "    function()\n",
        "    print(x)"
      ],
      "execution_count": 47,
      "outputs": []
    },
    {
      "cell_type": "code",
      "metadata": {
        "id": "Pjv4vL3_0X8t"
      },
      "source": [
        "# Strings"
      ],
      "execution_count": null,
      "outputs": []
    },
    {
      "cell_type": "code",
      "metadata": {
        "id": "1_QCcKgI2Zll"
      },
      "source": [
        "s = 'Beautiful palace'\n",
        "print(s[:], '\\n')\n",
        "\n",
        "# problem 2: Slicing of strings using function slice\n",
        "py_string = 'Learn Python'\n",
        "\n",
        "slice_obj1 = slice(-1, -6, -1)     # (start, stop, step)\n",
        "slice_obj2 = slice(1, 6, -1)\n",
        "slice_obj3 = slice(1, 6, 1)\n",
        "\n",
        "print(py_string[slice_obj1], py_string[slice_obj2],py_string[slice_obj3], '\\n')\n",
        "\n",
        "# problem 3: Slicing of strings\n",
        "s = 'Hello World'\n",
        "\n",
        "reverse = s[::-1]\n",
        "print(reverse)\n",
        "s1 = s[2:8:2]\n",
        "print(s1, '\\n')\n",
        "\n",
        "#  problem 4: Program to get a substring from the given string\n",
        "py_string = 'Python book'\n",
        "\n",
        "slice_obj = slice(0, 1, 2)     # (start, stop, step)\n",
        "print('substring is : ', py_string[slice_obj], '\\n')\n",
        "\n",
        "# problem 5:\n",
        "py_list = ['P', 'y', 't', 'h', 'o', 'n']\n",
        "py_tuple = ('P', 'y', 't', 'h', 'o', 'n')\n",
        "\n",
        "slice_obj = slice(0, 1, 2)     # (start, stop, step)\n",
        "print(py_list[slice_obj])\n",
        "slice_obj = slice(1, 5, 2)\n",
        "print(py_tuple[slice_obj])\n",
        "py_string = 'Python'\n",
        "print(py_string[0:3]) "
      ],
      "execution_count": null,
      "outputs": []
    },
    {
      "cell_type": "code",
      "metadata": {
        "id": "ebzIpe-88vps"
      },
      "source": [
        "# Python Data Types"
      ],
      "execution_count": null,
      "outputs": []
    },
    {
      "cell_type": "code",
      "metadata": {
        "id": "uzjL1R0a8zK6"
      },
      "source": [
        "name = 'Sweekruti Narendra Singh'  \n",
        "reg_no = '20BCS124'  \n",
        "sem = 3\n",
        "print(type(name))  \n",
        "print(type(reg_no))  \n",
        "print(type(sem))"
      ],
      "execution_count": null,
      "outputs": []
    },
    {
      "cell_type": "code",
      "metadata": {
        "id": "vZB1_p3H9ivM"
      },
      "source": [
        "# Numbers\n",
        "x = 5  \n",
        "print('The type of x', type(x))  \n",
        "  \n",
        "y = 20 \n",
        "print('The type of y', type(y))  \n",
        "  \n",
        "z = 1+3j  \n",
        "print('The type of z', type(z))  \n",
        "print('z is a complex number', isinstance(1+3j,complex))"
      ],
      "execution_count": null,
      "outputs": []
    },
    {
      "cell_type": "code",
      "metadata": {
        "id": "5eExvVBj-woe"
      },
      "source": [
        "# Sequence Type\n",
        "# String\n",
        "x = 'My name is Sweekruti Narendra Singh'     # string x    \n",
        "y = 'I study in IIIT Dharwad'     # string y    \n",
        "print(x[0:2])     # printing first two character using slice operator    \n",
        "print(x[4])     # printing 4th character of the string    \n",
        "print(x*2)     # printing the string twice    \n",
        "print(x+y,'\\n')     # printing the concatenation of x and y\n",
        "\n",
        "# List\n",
        "x  = [5, 20, 'Sweekruti', 'Singh']      \n",
        "print(type(x))     # Checking type of given list  \n",
        "\n",
        "print(x)  \n",
        "\n",
        "print(x[3:])     # List slicing\n",
        "  \n",
        "print(x+x)     # List Concatenation using + operator\n",
        "\n",
        "print(x*2, '\\n')     # List repetation using * operator\n",
        "\n",
        "# Tuple\n",
        "x = (5, 20, 'Sweekruti', 'Singh')     \n",
        "print(type(x))     # Checking type of tup     \n",
        "\n",
        "print(x)  \n",
        "  \n",
        "print(x[1:])     # Tuple slicing    \n",
        "print(x[0:1])    \n",
        "  \n",
        "print(x+x)     # Tuple Concatenation using + operator    \n",
        "\n",
        "print(x*2, '\\n')     # Tuple repetation using * operator\n",
        "\n",
        "# Dictionary\n",
        "dict = {1:'London', 2:'Paris', 3:'New York', 4:'Tokyo'}     \n",
        "  \n",
        "print (dict)     # Printing dictionary\n",
        "  \n",
        "print(\"First name is \"+dict[1])     # Accesing value using keys \n",
        "print(\"Second name is \"+ dict[4])    \n",
        "  \n",
        "print (dict.keys())    \n",
        "print (dict.values(), '\\n')\n",
        "\n",
        "# Boolean\n",
        "x = 5>20     # This is false\n",
        "print(x)\n",
        "print(type(x), '\\n')\n",
        "\n",
        "# Set\n",
        "x = set()     # Creating Empty set  \n",
        "\n",
        "y = {5, 20, 'Sweekruti', 'Singh'}  \n",
        "print(y) \n",
        "\n",
        "y.add(5)     # Adding element to the set   \n",
        "print(y)  \n",
        " \n",
        "y.remove(5)     # Removing element to the set  \n",
        "print(y)"
      ],
      "execution_count": null,
      "outputs": []
    },
    {
      "cell_type": "code",
      "metadata": {
        "id": "X0D5lNZFGX_g"
      },
      "source": [
        "# Implicit Type Conversion\n",
        "var_int = 5\n",
        "var_float = 20\n",
        "\n",
        "var_new = var_int + var_float\n",
        "\n",
        "print(\"Data type of var_int:\",type(var_int))\n",
        "print(\"Data type of var_float:\",type(var_float))\n",
        "\n",
        "print(\"Value of num_new:\",var_new)\n",
        "print(\"Data type of var_new:\",type(var_new), '\\n')\n",
        "\n",
        "# Explicit Type Conversion\n",
        "num_int = 5\n",
        "num_str = '20'\n",
        "\n",
        "print(\"Data type of num_int:\",type(num_int))\n",
        "print(\"Data type of num_str before Type Casting:\",type(num_str))\n",
        "\n",
        "num_str = int(num_str)\n",
        "print(\"Data type of num_str after Type Casting:\",type(num_str))\n",
        "\n",
        "num_sum = num_int + num_str\n",
        "\n",
        "print(\"Sum of num_int and num_str:\",num_sum)\n",
        "print(\"Data type of the sum:\",type(num_sum))"
      ],
      "execution_count": null,
      "outputs": []
    },
    {
      "cell_type": "code",
      "metadata": {
        "id": "8j9EgokTIZcz"
      },
      "source": [
        "# Operators"
      ],
      "execution_count": null,
      "outputs": []
    },
    {
      "cell_type": "code",
      "metadata": {
        "id": "KB_-I13SIek4"
      },
      "source": [
        "# Arithmetic operators\n",
        "x = 5\n",
        "y = 20\n",
        "\n",
        "print('x + y =', x+y)     # Output: x + y = 25\n",
        "\n",
        "print('x - y =', x-y)     # Output: x - y = -15\n",
        "\n",
        "print('x * y =', x*y)     # Output: x * y = 100\n",
        "\n",
        "print('x / y =', x/y)     # Output: x / y = 0.25\n",
        "\n",
        "print('x // y =', x//y)     # Output: x // y = 0\n",
        "\n",
        "print('x ** y =', x**y, '\\n')     # Output: x ** y = 95367431640625\n",
        "\n",
        "# Comparison operators\n",
        "x = 5\n",
        "y = 20\n",
        "\n",
        "print('x > y is', x>y)     # Output: x > y is False\n",
        "\n",
        "print('x < y is', x<y)     # Output: x < y is False\n",
        " \n",
        "print('x == y is', x==y)     #  Output: x == y is True\n",
        "\n",
        "print('x != y is', x!=y)     # Output: x != y is False\n",
        "\n",
        "print('x >= y is', x>=y)     # Output: x >= y is True\n",
        "\n",
        "print('x <= y is', x<=y, '\\n')     # Output: x <= y is True\n",
        "\n",
        "# Logical operators\n",
        "a = True\n",
        "b = False\n",
        "\n",
        "print('a and b is', a and b)\n",
        "\n",
        "print('x or y is', x or y)\n",
        "\n",
        "print('not x is', not x, '\\n')\n",
        "\n",
        "# Bitwise operators\n",
        "x=10\n",
        "y= 4\n",
        "print(x & y) # = 0 (0000 0000)     AND\n",
        "print(x ^ y) # = 14 (0000 1110)     XOR \n",
        "print(x << 2) # = 40 (0010 1000)     left shift operator\n",
        "print(x >> 2, '\\n') # = 2 (0000 0010)     right shift operator\n",
        "\n",
        "# Assignment operators\n",
        "a=2\n",
        "a += 5\n",
        "a %= 5\n",
        "a **= 5\n",
        "a //= 5\n",
        "print(a, '\\n')\n",
        "\n",
        "# Identity operators\n",
        "x1 = 5\n",
        "y1 = 5\n",
        "x2 = 'Hello World'\n",
        "y2 = 'Hello World'\n",
        "x3 = [10,20,30]\n",
        "y3 = [10,20,30]\n",
        "\n",
        "print(x1 is not y1)     # Output: False\n",
        "\n",
        "print(x2 is y2)     # Output: True\n",
        "\n",
        "print(x3 is y3, '\\n')     # Output: False\n",
        "\n",
        "# Membership operators\n",
        "x = 'Hello World'\n",
        "y = {1:'a',2:'b'}\n",
        "\n",
        "print('H' in x)     # Output: True\n",
        "\n",
        "print('hello' not in x)     # Output: True\n",
        "\n",
        "print(1 in y)     # Output: True\n",
        "\n",
        "print('a' in y)     # Output: False"
      ],
      "execution_count": null,
      "outputs": []
    },
    {
      "cell_type": "code",
      "metadata": {
        "id": "MuLhLHJZPLcL"
      },
      "source": [
        "# Control"
      ],
      "execution_count": null,
      "outputs": []
    },
    {
      "cell_type": "code",
      "metadata": {
        "id": "DbARJbDgPcHm"
      },
      "source": [
        "# Python if Statement Syntax\n",
        "# Python if... Statement - 1 option\n",
        "x = 5\n",
        "y = 20\n",
        "if x<y:\n",
        "    print(\"x is less than y\", '\\n')\n",
        "\n",
        "# Python if...elif...else Statement - 2 Option\n",
        "x = 5\n",
        "y = 20\n",
        "if x<y:\n",
        "    print(\"x is less than y\", '\\n')\n",
        "elif y<x:\n",
        "    print(\"y is less than x\", '\\n')\n",
        "else:\n",
        "    print(\"x is equal to y\", '\\n')\n",
        "\n",
        "# Python Nested if statements\n",
        "x = 5\n",
        "y = 20\n",
        "if x<=y:\n",
        "    if x<y:\n",
        "        print(\"x is less than y\", '\\n')\n",
        "    else:\n",
        "        print(\"x is equal to y\", '\\n')\n",
        "\n",
        "# Python for Loop\n",
        "numbers = [5, 20, 21, 22, 10, 31, 13, 16, 17, 1]\n",
        "sum = 0\n",
        "for val in numbers:\n",
        "    sum = sum+val\n",
        "print(\"The sum is \", sum, '\\n')\n",
        "\n",
        "# The range() function\n",
        "music = ['Pop', 'Hip hop', 'R&B','EDM']     # iterate over the list using index\n",
        "\n",
        "for i in range(len(music)):\n",
        "    print(\"I like\", music[i], '\\n')\n",
        "\n",
        "# for loop with else\n",
        "student_name = 'Soyuj'\n",
        "marks = {'James': 90, 'Jules': 55, 'Arthur': 77}\n",
        "for student in marks:\n",
        "    if student == student_name:\n",
        "        print(marks[student], '\\n')\n",
        "        break\n",
        "else:\n",
        "    print('No entry with that name found.', '\\n')\n",
        "print(' ')\n",
        "\n",
        "# while loop in Python\n",
        "numbers = [5, 20, 21, 22, 10, 31, 13, 16, 17, 1]\n",
        "sum = i = 0\n",
        "while i<10:\n",
        "    sum+=numbers[i]\n",
        "    i=i+1\n",
        "print(\"The sum is \", sum)"
      ],
      "execution_count": null,
      "outputs": []
    }
  ]
}