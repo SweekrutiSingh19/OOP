{
  "nbformat": 4,
  "nbformat_minor": 0,
  "metadata": {
    "colab": {
      "name": "Blood Donation Application.ipynb",
      "provenance": [],
      "collapsed_sections": [],
      "include_colab_link": true
    },
    "kernelspec": {
      "name": "python3",
      "display_name": "Python 3"
    },
    "language_info": {
      "name": "python"
    }
  },
  "cells": [
    {
      "cell_type": "markdown",
      "metadata": {
        "id": "view-in-github",
        "colab_type": "text"
      },
      "source": [
        "<a href=\"https://colab.research.google.com/github/SweekrutiSingh19/OOP/blob/main/Blood_Donation_Application.ipynb\" target=\"_parent\"><img src=\"https://colab.research.google.com/assets/colab-badge.svg\" alt=\"Open In Colab\"/></a>"
      ]
    },
    {
      "cell_type": "markdown",
      "metadata": {
        "id": "gPX-qbSCdGTy"
      },
      "source": [
        "OOP Course : Blood Donation Application – Class Hackathon 1\n",
        "\n",
        "By:\n",
        "ESHA (20BCS045)\n",
        "\n",
        "\n",
        "SINGH SWEEKRUTI NARENDRA (20BCS124)\n",
        "\n",
        "\n"
      ]
    },
    {
      "cell_type": "code",
      "metadata": {
        "id": "lJocvxhqmcMZ"
      },
      "source": [
        "x= int(input(print(\"Welcome to XYZ NGO's Blood Donation Application\\n Choose your role:\\n 1. Admin \\n 2. User\\n \") ) )\n",
        "if x==1:\n",
        "  print('Admin\\n')\n",
        "  y=int(input('Content:\\n 1. Add New Blood Bank\\n 2. Find A Donor\\n 3. Blood Requests\\n 4. Exit\\n'))\n",
        "  if y==1:\n",
        "    add=input('Name of the hospital:')\n",
        "    print(add+' has been added\\n')\n",
        "  elif y==2:\n",
        "    print(' Aniruddha Subramanian (A-positive)\\n Radha Bansal (O-negative)\\n Kirtida Bawa (A-negative)\\n Aishwarya Choudhary (O-positive)\\n Nilam Anne (B-positive)\\n')\n",
        "  elif y==3:\n",
        "    print('URGENT REQUEST\\nGrace Hospital Blood Bank is in URGENT NEED of Blood Donation of ALL TYPES\\n')\n",
        "  while y!=4:\n",
        "    y=int(input('Content:\\n 1. Add New Blood Bank\\n 2. Find a Donor\\n 3. Blood Requests\\n 4. Exit\\n'))\n",
        "    if y==1:\n",
        "      add=input('Name of the hospital:')\n",
        "      print(add+' has been added\\n')\n",
        "    elif y==2:\n",
        "      print(' Aniruddha Subramanian (A-positive)\\n Radha Bansal (O-negative)\\n Kirtida Bawa (A-negative)\\n Aishwarya Choudhary (O-positive)\\n Nilam Anne (B-positive)\\n')\n",
        "    elif y==3:\n",
        "      print('URGENT REQUEST\\nGrace Hospital Blood Bank is in URGENT NEED of Blood Donation of ALL TYPES\\n')\n",
        "elif x==2:\n",
        "  print('User')\n",
        "  z=int(input('Content:\\n 1. Send Blood Request\\n 2. Donate Blood\\n 3. Blood Requests\\n 4. Exit\\n'))\n",
        "  if z==1:\n",
        "    request=input('Enter your blood group:')\n",
        "    print('Your request for blood donation of '+request+' type has been sent\\n')\n",
        "  elif z==2:\n",
        "    donate=input('Enter your blood group:')\n",
        "    print('Your blood type '+donate+' has beeen registered for blood donations\\n')\n",
        "  elif z==3:\n",
        "    a=int(input('URGENT REQUEST\\nGrace Hospital Blood Bank is in URGENT NEED of Blood Donation of ALL TYPES\\n 1.ACCEPT\\n 2.IGNORE\\n'))\n",
        "    if a==1:\n",
        "        print(' You have ACCEPTED the blood donation request\\n You will be contacted to schedule an appointment soon\\n')\n",
        "  while z!=4:\n",
        "    z=int(input('Content:\\n 1. Send Blood Request\\n 2. Donate Blood\\n 3. Blood Requests\\n 4. Exit\\n'))\n",
        "    if z==1:\n",
        "      request=input('Enter your blood group:')\n",
        "      print('Your request for blood donation of '+request+' type has been sent\\n')\n",
        "    elif z==2:\n",
        "      donate=input('Enter your blood group:')\n",
        "      print('Your blood type '+donate+' has beeen registered for blood donations\\n')\n",
        "    elif z==3:\n",
        "      a=int(input('URGENT REQUEST\\nGrace Hospital Blood Bank is in URGENT NEED of Blood Donation of ALL TYPES\\n 1.ACCEPT\\n 2.IGNORE\\n'))\n",
        "      if a==1:\n",
        "        print(' You have ACCEPTED the blood donation request\\n You will be contacted to schedule an appointment soon\\n')\n",
        "else:\n",
        "  print('Incorrect input')"
      ],
      "execution_count": null,
      "outputs": []
    }
  ]
}