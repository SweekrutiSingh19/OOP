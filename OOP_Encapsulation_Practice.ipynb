{
  "nbformat": 4,
  "nbformat_minor": 0,
  "metadata": {
    "colab": {
      "name": "OOP Encapsulation Practice.ipynb",
      "provenance": [],
      "authorship_tag": "ABX9TyOFv4QZCr6/XHC2KnXyQSDU",
      "include_colab_link": true
    },
    "kernelspec": {
      "name": "python3",
      "display_name": "Python 3"
    },
    "language_info": {
      "name": "python"
    }
  },
  "cells": [
    {
      "cell_type": "markdown",
      "metadata": {
        "id": "view-in-github",
        "colab_type": "text"
      },
      "source": [
        "<a href=\"https://colab.research.google.com/github/SweekrutiSingh19/OOP/blob/main/OOP_Encapsulation_Practice.ipynb\" target=\"_parent\"><img src=\"https://colab.research.google.com/assets/colab-badge.svg\" alt=\"Open In Colab\"/></a>"
      ]
    },
    {
      "cell_type": "code",
      "metadata": {
        "id": "HSs0W5YtmWiF"
      },
      "source": [
        "# C++ - Encapsulation - Public variables"
      ],
      "execution_count": null,
      "outputs": []
    },
    {
      "cell_type": "code",
      "metadata": {
        "id": "caP39iqfr5ba",
        "colab": {
          "base_uri": "https://localhost:8080/"
        },
        "outputId": "49d1d19c-61ed-45f6-830e-7a6f2b6c97e8"
      },
      "source": [
        "%%writefile OOP-Encapsulation-Practice.cpp\n",
        "#include<iostream>\n",
        "using namespace std;\n",
        "class publicVar\n",
        "\t{\n",
        "\tpublic:\n",
        "\t\tint length;\n",
        "\t\tint breadth;\n",
        "\t\tint getArea() \n",
        "\t\t{           // Function to calculate area\n",
        "      \t\treturn length * breadth;\n",
        "    \t}\n",
        "};\n",
        "int main(){\n",
        "   publicVar obj;\n",
        "   obj.length = 20;\n",
        "   obj.breadth = 5;\n",
        "   cout << \"Area = \" << obj.getArea();\n",
        "   return 0;\n",
        "}"
      ],
      "execution_count": 4,
      "outputs": [
        {
          "output_type": "stream",
          "name": "stdout",
          "text": [
            "Overwriting OOP-Encapsulation-Practice.cpp\n"
          ]
        }
      ]
    },
    {
      "cell_type": "code",
      "metadata": {
        "colab": {
          "base_uri": "https://localhost:8080/"
        },
        "id": "nkyylf_kmb0g",
        "outputId": "042b61dd-63c3-454e-a3d8-a45d6e466410"
      },
      "source": [
        "%%shell\n",
        "g++ OOP-Encapsulation-Practice.cpp -o output5\n",
        "./output5"
      ],
      "execution_count": 5,
      "outputs": [
        {
          "output_type": "stream",
          "name": "stdout",
          "text": [
            "Area = 100"
          ]
        },
        {
          "output_type": "execute_result",
          "data": {
            "text/plain": [
              ""
            ]
          },
          "metadata": {},
          "execution_count": 5
        }
      ]
    },
    {
      "cell_type": "code",
      "metadata": {
        "id": "33aevRIhm5kW"
      },
      "source": [
        "# C++ - Encapsulation - Private variables and Public funcions"
      ],
      "execution_count": null,
      "outputs": []
    },
    {
      "cell_type": "code",
      "metadata": {
        "colab": {
          "base_uri": "https://localhost:8080/"
        },
        "id": "uy47hif2nad6",
        "outputId": "53150367-d63e-4a32-90cd-f2e51d1720f9"
      },
      "source": [
        "%%writefile OOP-Encapsulation-Practice.cpp\n",
        "#include<iostream>\n",
        "using namespace std;\n",
        "class privateVar\n",
        "\t{\n",
        "\tprivate:\n",
        "\t\tint length;\n",
        "\t\tint breadth;\n",
        "\tpublic:\n",
        "\t\tvoid setLength(int l) \t\t\t// Setter function for length\n",
        "\t\t{       \n",
        "\t      length = l;\n",
        "\t    }\n",
        "\t    void setBreadth(int b) \t\t\t// Setter function for breadth\n",
        "\t\t{\n",
        "\t      breadth = b;\n",
        "\t    }\n",
        "\t    int getLength() \t\t\t\t// Getter function for length\n",
        "\t\t{         \n",
        "\t      return length;\n",
        "\t    }\n",
        "\t    int getBreadth() \t\t\t\t// Getter function for breadth\n",
        "\t\t{      \n",
        "\t      return breadth;\n",
        "\t    }\n",
        "\t\tint getArea() \n",
        "\t\t{           // Function to calculate area\n",
        "      \t\treturn length * breadth;\n",
        "    \t}\n",
        "};\n",
        "int main(){\n",
        "   privateVar obj;\n",
        "   obj.setLength(20);\n",
        "   obj.setBreadth(5);\n",
        "   cout << \"Length = \" << obj.getLength() << endl;\n",
        "   cout << \"Breadth = \" << obj.getBreadth() << endl;\n",
        "   cout << \"Area = \" << obj.getArea();\n",
        "   return 0;\n",
        "}"
      ],
      "execution_count": 7,
      "outputs": [
        {
          "output_type": "stream",
          "name": "stdout",
          "text": [
            "Overwriting OOP-Encapsulation-Practice.cpp\n"
          ]
        }
      ]
    },
    {
      "cell_type": "code",
      "metadata": {
        "colab": {
          "base_uri": "https://localhost:8080/"
        },
        "id": "dGj0F5RlEG2_",
        "outputId": "0bc0eda5-9ef0-47fe-cfb9-40c88d088f81"
      },
      "source": [
        "%%shell\n",
        "g++ OOP-Encapsulation-Practice.cpp -o output5\n",
        "./output5"
      ],
      "execution_count": 9,
      "outputs": [
        {
          "output_type": "stream",
          "name": "stdout",
          "text": [
            "Length = 20\n",
            "Breadth = 5\n",
            "Area = 100"
          ]
        },
        {
          "output_type": "execute_result",
          "data": {
            "text/plain": [
              ""
            ]
          },
          "metadata": {},
          "execution_count": 9
        }
      ]
    },
    {
      "cell_type": "code",
      "metadata": {
        "id": "DPA5zd8WMW7T"
      },
      "source": [
        "# C++ - Encapsulation - Constructor"
      ],
      "execution_count": null,
      "outputs": []
    },
    {
      "cell_type": "code",
      "metadata": {
        "colab": {
          "base_uri": "https://localhost:8080/"
        },
        "id": "5oUi-CjIMwEE",
        "outputId": "d98b5414-7e10-48eb-96e5-d613f2fe315d"
      },
      "source": [
        "%%writefile OOP-Encapsulation-Practice.cpp\n",
        "#include<iostream>\n",
        "using namespace std;\n",
        "class Multiplier\n",
        "\t{\n",
        "\tprivate:\n",
        "\t\tint result;\n",
        "\tpublic:\n",
        "\t\tMultiplier (int i = 0, int j = 0)\t\t//constructor\n",
        "\t\t{\n",
        "\t\t\tresult = i*j;\n",
        "\t\t}\n",
        "\t\tint getResult() \n",
        "\t\t{           \n",
        "      \t\treturn result;\n",
        "    \t}\n",
        "};\n",
        "int main(){\n",
        "   Multiplier obj(20, 5);\n",
        "   cout << \"Result = \" << obj.getResult();\n",
        "   return 0;\n",
        "}"
      ],
      "execution_count": 11,
      "outputs": [
        {
          "output_type": "stream",
          "name": "stdout",
          "text": [
            "Overwriting OOP-Encapsulation-Practice.cpp\n"
          ]
        }
      ]
    },
    {
      "cell_type": "code",
      "metadata": {
        "colab": {
          "base_uri": "https://localhost:8080/"
        },
        "id": "DBP4NbjrM7mQ",
        "outputId": "0d29c233-b7f2-46db-f23b-1eabca00da39"
      },
      "source": [
        "%%shell\n",
        "g++ OOP-Encapsulation-Practice.cpp -o output5\n",
        "./output5"
      ],
      "execution_count": 12,
      "outputs": [
        {
          "output_type": "stream",
          "name": "stdout",
          "text": [
            "Result = 100"
          ]
        },
        {
          "output_type": "execute_result",
          "data": {
            "text/plain": [
              ""
            ]
          },
          "metadata": {},
          "execution_count": 12
        }
      ]
    },
    {
      "cell_type": "code",
      "metadata": {
        "id": "R_l-tV6fNI46"
      },
      "source": [
        "# Python Encapsulation - Classes - Constructor and Public & Private variables"
      ],
      "execution_count": null,
      "outputs": []
    },
    {
      "cell_type": "code",
      "metadata": {
        "colab": {
          "base_uri": "https://localhost:8080/"
        },
        "id": "Zo43LwGhNrm0",
        "outputId": "dfb32b20-ca1f-4065-ff01-6bdee956d9b3"
      },
      "source": [
        "class Mobile:   \n",
        "    def __init__(self, name, model, price, color):\n",
        "        self.__name = name     # __ indicates private variable\n",
        "        self.__model = model\n",
        "        self.price = price     # publicly available\n",
        "        self.color = color\n",
        "    def getProductInfo(self):\n",
        "        print('Name: {0}\\nModel: {1}\\nPrice: Rs. {2}\\nColor: {3}\\n'.format(self.__name, self.__model, self.price, self.color))\n",
        "    \n",
        "\n",
        "Phone = Mobile('Apple', 'iPhone SE', 39900, 'Black')\n",
        "Phone.getProductInfo()\n",
        "Phone.__name = 'Samsung'     # will not change variable because its private\n",
        "Phone.getProductInfo()"
      ],
      "execution_count": 13,
      "outputs": [
        {
          "output_type": "stream",
          "name": "stdout",
          "text": [
            "Name: Apple\n",
            "Model: iPhone 8\n",
            "Price: Rs. 39900\n",
            "Color: Space Gray\n",
            "\n",
            "Name: Apple\n",
            "Model: iPhone 8\n",
            "Price: Rs. 39900\n",
            "Color: Space Gray\n",
            "\n"
          ]
        }
      ]
    }
  ]
}