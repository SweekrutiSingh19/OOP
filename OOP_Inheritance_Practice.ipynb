{
  "nbformat": 4,
  "nbformat_minor": 0,
  "metadata": {
    "colab": {
      "name": "OOP Inheritance Practice.ipynb",
      "provenance": [],
      "authorship_tag": "ABX9TyNlUBhxjhDLSeJxEiMrARub",
      "include_colab_link": true
    },
    "kernelspec": {
      "name": "python3",
      "display_name": "Python 3"
    },
    "language_info": {
      "name": "python"
    }
  },
  "cells": [
    {
      "cell_type": "markdown",
      "metadata": {
        "id": "view-in-github",
        "colab_type": "text"
      },
      "source": [
        "<a href=\"https://colab.research.google.com/github/SweekrutiSingh19/OOP/blob/main/OOP_Inheritance_Practice.ipynb\" target=\"_parent\"><img src=\"https://colab.research.google.com/assets/colab-badge.svg\" alt=\"Open In Colab\"/></a>"
      ]
    },
    {
      "cell_type": "code",
      "metadata": {
        "id": "-zLTjQQpsGIV",
        "colab": {
          "base_uri": "https://localhost:8080/"
        },
        "outputId": "f97272a7-d393-4999-853b-00f9acc3eee5"
      },
      "source": [
        "# Problem 1: Create a Player class\n",
        "class Player:\n",
        "    MAX_POSITION = 10     # Class attribute   \n",
        "    def __init__(self):\n",
        "      self.position = 0 \n",
        "print(Player.MAX_POSITION)    # instance accessing Class attribute\n",
        "# Create a player p and print its MAX_POSITITON\n",
        "p = Player()\n",
        "print(p.MAX_POSITION)"
      ],
      "execution_count": 1,
      "outputs": [
        {
          "output_type": "stream",
          "name": "stdout",
          "text": [
            "10\n",
            "10\n"
          ]
        }
      ]
    },
    {
      "cell_type": "markdown",
      "metadata": {
        "id": "bhnFEiIMjZaD"
      },
      "source": [
        "Output:\n",
        "\n",
        "10\n",
        "\n",
        "10"
      ]
    },
    {
      "cell_type": "markdown",
      "metadata": {
        "id": "yHDeZ7SYjyMp"
      },
      "source": [
        "**OOP - Inheritance - Quiz**\n",
        "\n",
        "**P1 - what will happen if you try to assign another value to a class attribute when accessing it from an instance?**\n",
        "\n",
        "Answ. The previous or default value will be overwritten and the new value will be stored, only for that instance, not for other instances of that class or instances made after either."
      ]
    },
    {
      "cell_type": "code",
      "metadata": {
        "colab": {
          "base_uri": "https://localhost:8080/"
        },
        "id": "RxqenCotkCjF",
        "outputId": "2d4ba40a-e6ca-4cd3-ff4f-e098c5fa5c25"
      },
      "source": [
        "# Problem 2:\n",
        "class Player:\n",
        "    MAX_SPEED = 10     # Class attribute   \n",
        "    def __init__(self, speed):\n",
        "      self.speed = speed\n",
        "\n",
        "p1 = Player(5)\n",
        "p2 = Player(20)\n",
        "print(p1.MAX_SPEED, p2.MAX_SPEED)\n",
        "p1.MAX_SPEED = 7\n",
        "print(p1.MAX_SPEED, p2.MAX_SPEED)\n",
        "print(Player.MAX_SPEED)"
      ],
      "execution_count": 2,
      "outputs": [
        {
          "output_type": "stream",
          "name": "stdout",
          "text": [
            "10 10\n",
            "7 10\n",
            "10\n"
          ]
        }
      ]
    },
    {
      "cell_type": "code",
      "metadata": {
        "id": "0QEGCiipoV85"
      },
      "source": [
        "## Problem2 :\n",
        "class Player:\n",
        "    MAX_POSITION = 10     # Class attribute   \n",
        "    def __init__(self):\n",
        "      self.position = 0\n",
        "class Racer(Player):\n",
        "    MAX_SPEED = 5      # adding attributes to Child Class\n",
        "p = Player()\n",
        "r = Racer()\n",
        "# What is the output?\n",
        "print(\"p.MAX_SPEED = \", p.MAX_SPEED)  \n",
        "print(\"r.MAX_SPEED = \", r.MAX_SPEED)\n",
        "print(\"p.MAX_POSITION = \", p.MAX_POSITION)\n",
        "print(\"r.MAX_POSITION = \", r.MAX_POSITION)"
      ],
      "execution_count": null,
      "outputs": []
    },
    {
      "cell_type": "markdown",
      "metadata": {
        "id": "72mYDEpYmyMC"
      },
      "source": [
        "p.MAX_SPEED will show error as class Player has no attribute named \"MAX_SPEED\"\n",
        "\n",
        "Output:\n",
        "\n",
        "r.MAX_SPEED =  5\n",
        "\n",
        "p.MAX_POSITION =  10\n",
        "\n",
        "r.MAX_POSITION =  10"
      ]
    },
    {
      "cell_type": "code",
      "metadata": {
        "id": "erza712Mowsv"
      },
      "source": [
        "# Problem 3: making changes in Child class methods\n",
        "class Employee:\n",
        "    def __init__(self, name, salary=30000):\n",
        "        self.name = name\n",
        "        self.salary = salary\n",
        "    def give_raise(self, amount):\n",
        "        self.salary += amount        \n",
        "class Manager(Employee):\n",
        "    def display(self):\n",
        "        print(\"Manager \", self.name)\n",
        "    def __init__(self, name, salary=50000, project=None):\n",
        "        Employee.__init__(self, name, salary)\n",
        "        self.project = project\n",
        "    def give_raise(self, amount, bonus=1.05): # Add a give_raise method\n",
        "        new_amount = amount * bonus\n",
        "        Employee.give_raise(self, new_amount)  # what is the diff?\n",
        "mngr = Manager(\"Ram\", 78500)\n",
        "mngr.give_raise(1000)\n",
        "print(mngr.salary)   # what is the output?\n",
        "mngr.give_raise(2000, bonus=1.03)\n",
        "print(mngr.salary)"
      ],
      "execution_count": null,
      "outputs": []
    },
    {
      "cell_type": "markdown",
      "metadata": {
        "id": "2tJDLs__o4CG"
      },
      "source": [
        "Employee.give_raise within Manager class refers to the give_raise function within class Employee, otherwise we would write self.give_raise\n",
        "\n",
        "Output:\n",
        "\n",
        "79550.0\n",
        "\n",
        "81610.0"
      ]
    },
    {
      "cell_type": "code",
      "metadata": {
        "colab": {
          "base_uri": "https://localhost:8080/"
        },
        "id": "0dvI1q3wpZWi",
        "outputId": "4e736408-6274-4091-ca1e-ac4ac311c724"
      },
      "source": [
        "# Problem 4: Alternative Constructor \n",
        "class MyDate:\n",
        "    def __init__(self, year, month, day):     # Constructor\n",
        "      # Python allows multiple variable assignments in one line\n",
        "      self.year, self.month, self.day = year, month, day    \n",
        "    # Define a class method from_str\n",
        "    @classmethod\n",
        "    def from_str(cls, datestr):\n",
        "    # Split the string at \"-\" and  convert each part to integer\n",
        "        parts = datestr.split(\"-\")\n",
        "        year, month, day = int(parts[0]), int(parts[1]), int(parts[2])\n",
        "        return cls(year, month, day)       # Return the class instance  \n",
        "bd = MyDate.from_str('2021-09-08')   \n",
        "print(bd.year)\n",
        "print(bd.month)\n",
        "print(bd.day)"
      ],
      "execution_count": 6,
      "outputs": [
        {
          "output_type": "stream",
          "name": "stdout",
          "text": [
            "2021\n",
            "9\n",
            "8\n"
          ]
        }
      ]
    },
    {
      "cell_type": "code",
      "metadata": {
        "colab": {
          "base_uri": "https://localhost:8080/"
        },
        "id": "_gNvnE8Tpysi",
        "outputId": "41fa5148-c187-44a9-9d27-56a231a6d7ba"
      },
      "source": [
        "## Problem 5 : Define a subclass \n",
        "class Employee:\n",
        "  MIN_SALARY = 30000    \n",
        "  def __init__(self, name, salary=MIN_SALARY):\n",
        "      self.name = name\n",
        "      if salary >= Employee.MIN_SALARY:\n",
        "        self.salary = salary\n",
        "      else:\n",
        "        self.salary = Employee.MIN_SALARY\n",
        "  def give_raise(self, amount):\n",
        "      self.salary += amount        \n",
        "# Define a new class Manager inheriting from Employee\n",
        "class Manager(Employee):\n",
        "  pass\n",
        "# Define a Manager object or child class \n",
        "mng = Manager('Sweekruti', 600000)\n",
        "# Print mng's name\n",
        "print(mng.name)"
      ],
      "execution_count": 8,
      "outputs": [
        {
          "output_type": "stream",
          "name": "stdout",
          "text": [
            "Sweekruti\n"
          ]
        }
      ]
    },
    {
      "cell_type": "code",
      "metadata": {
        "colab": {
          "base_uri": "https://localhost:8080/"
        },
        "id": "8DjDHibAqRgM",
        "outputId": "c090cc8d-55aa-4568-8ba1-8431e0865899"
      },
      "source": [
        "# Method inheritance\n",
        "class Employee:\n",
        "    def __init__(self, name, salary=30000):\n",
        "        self.name = name\n",
        "        self.salary = salary\n",
        "    def give_raise(self, amount):\n",
        "        self.salary += amount       \n",
        "class Manager(Employee):\n",
        "  # Add a constructor \n",
        "    def __init__(self, name, salary=50000, project=None):\n",
        "        Employee.__init__(self, name, salary)     # Call the parent's constructor \n",
        "        self.project = project     # Assign project attribute\n",
        "    def display(self):\n",
        "        print(\"Manager \", self.name)\n",
        "m1 = Manager('Sweekruti', 600000)\n",
        "m1.display()"
      ],
      "execution_count": 10,
      "outputs": [
        {
          "output_type": "stream",
          "name": "stdout",
          "text": [
            "Manager  Sweekruti\n"
          ]
        }
      ]
    },
    {
      "cell_type": "markdown",
      "metadata": {
        "id": "6sImXvybrKV5"
      },
      "source": [
        "**Which of the following statements about inheritance of class attributes is correct?**\n",
        "\n",
        "\n",
        "\n",
        "*   Class attributes CANNOT be inherited, but new class attributes of the same name CAN be created in a child class.\n",
        "\n",
        "*   Class attributes CANNOT be inherited, and new class attributes of the same name CANNOT be created in a child class.\n",
        "\n",
        "*   Class attributes CAN be inherited, and the value of class attributes CAN be overwritten in the child class\n",
        "\n",
        "*   Class attributes can be inherited, and the value of class attributes CANNOT be overwritten in the child class\n",
        "\n",
        "Answ. Correct statement - Class attributes CAN be inherited, and the value of class attributes CAN be overwritten in the child class\n",
        "\n",
        "\n"
      ]
    }
  ]
}